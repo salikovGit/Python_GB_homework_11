{
  "metadata": {
    "language_info": {
      "codemirror_mode": {
        "name": "python",
        "version": 3
      },
      "file_extension": ".py",
      "mimetype": "text/x-python",
      "name": "python",
      "nbconvert_exporter": "python",
      "pygments_lexer": "ipython3",
      "version": "3.8"
    },
    "kernelspec": {
      "name": "python",
      "display_name": "Python (Pyodide)",
      "language": "python"
    }
  },
  "nbformat_minor": 4,
  "nbformat": 4,
  "cells": [
    {
      "cell_type": "code",
      "source": "from sympy import *",
      "metadata": {
        "trusted": true
      },
      "execution_count": 89,
      "outputs": []
    },
    {
      "cell_type": "markdown",
      "source": "Дана функция f(x) = (sin(x)/2 + cos(x)/2)^2 * sin(x)\n\nОпределить корни\n\nНайти интервалы, на которых функция возрастает\n\nНайти интервалы, на которых функция убывает\n\nПостроить график\n\nВычислить вершину\n\nОпределить промежутки, на котором f > 0\n\nОпределить промежутки, на котором f < 0",
      "metadata": {}
    },
    {
      "cell_type": "code",
      "source": "x = Symbol('x')",
      "metadata": {
        "trusted": true
      },
      "execution_count": 90,
      "outputs": []
    },
    {
      "cell_type": "code",
      "source": "y = (sin(x)/2 + cos(x)/2)**2 * sin(x)\ny",
      "metadata": {
        "trusted": true
      },
      "execution_count": 91,
      "outputs": [
        {
          "execution_count": 91,
          "output_type": "execute_result",
          "data": {
            "text/plain": "(sin(x)/2 + cos(x)/2)**2*sin(x)",
            "text/latex": "$\\displaystyle \\left(\\frac{\\sin{\\left(x \\right)}}{2} + \\frac{\\cos{\\left(x \\right)}}{2}\\right)^{2} \\sin{\\left(x \\right)}$"
          },
          "metadata": {}
        }
      ]
    },
    {
      "cell_type": "markdown",
      "source": "# Корни уравнения:",
      "metadata": {}
    },
    {
      "cell_type": "code",
      "source": "roots = solve(y, x)\nroots",
      "metadata": {
        "trusted": true
      },
      "execution_count": 92,
      "outputs": [
        {
          "execution_count": 92,
          "output_type": "execute_result",
          "data": {
            "text/plain": "[0, -pi/4, 3*pi/4, pi]"
          },
          "metadata": {}
        }
      ]
    },
    {
      "cell_type": "markdown",
      "source": "# Экстремумы функции:",
      "metadata": {}
    },
    {
      "cell_type": "code",
      "source": "extremums = solve(diff(y, x), x)\nextremums",
      "metadata": {
        "trusted": true
      },
      "execution_count": 93,
      "outputs": [
        {
          "execution_count": 93,
          "output_type": "execute_result",
          "data": {
            "text/plain": "[-pi/4,\n 3*pi/4,\n -2*atan(-3/2 + sqrt(6)*sqrt(5 - sqrt(17))/2 + sqrt(17)/2),\n 2*atan(3/2 + sqrt(17)/2 + sqrt(6)*sqrt(sqrt(17) + 5)/2),\n 2*atan(-sqrt(17)/2 + sqrt(6)*sqrt(5 - sqrt(17))/2 + 3/2),\n 2*atan(-sqrt(6)*sqrt(sqrt(17) + 5)/2 + 3/2 + sqrt(17)/2)]"
          },
          "metadata": {}
        }
      ]
    },
    {
      "cell_type": "markdown",
      "source": "# Интервалы возрастания (убывания) функции:",
      "metadata": {}
    },
    {
      "cell_type": "code",
      "source": "def user_is_increasing(function, point_1, point_2):\n    if function.evalf(subs={x: point_2}) > function.evalf(subs={x: point_1}):\n        return True\n    else:\n        return False\n\n\ndef intervals(function, points):\n    for i in range(1, len(points)):\n        if user_is_increasing(function, points[i], points[i-1]):\n            print(f'*  Функция возрастает на интервале: \\nот {points[i-1]} до {points[i]}')\n        else:\n            print(f'*  Функция убывает на интервале: \\nот {points[i-1]} до {points[i]}')\n\n\nintervals(y, extremums)",
      "metadata": {
        "trusted": true
      },
      "execution_count": 94,
      "outputs": [
        {
          "name": "stdout",
          "text": "*  Функция убывает на интервале: \nот -pi/4 до 3*pi/4\n*  Функция возрастает на интервале: \nот 3*pi/4 до -2*atan(-3/2 + sqrt(6)*sqrt(5 - sqrt(17))/2 + sqrt(17)/2)\n*  Функция убывает на интервале: \nот -2*atan(-3/2 + sqrt(6)*sqrt(5 - sqrt(17))/2 + sqrt(17)/2) до 2*atan(3/2 + sqrt(17)/2 + sqrt(6)*sqrt(sqrt(17) + 5)/2)\n*  Функция убывает на интервале: \nот 2*atan(3/2 + sqrt(17)/2 + sqrt(6)*sqrt(sqrt(17) + 5)/2) до 2*atan(-sqrt(17)/2 + sqrt(6)*sqrt(5 - sqrt(17))/2 + 3/2)\n*  Функция возрастает на интервале: \nот 2*atan(-sqrt(17)/2 + sqrt(6)*sqrt(5 - sqrt(17))/2 + 3/2) до 2*atan(-sqrt(6)*sqrt(sqrt(17) + 5)/2 + 3/2 + sqrt(17)/2)\n",
          "output_type": "stream"
        }
      ]
    },
    {
      "cell_type": "markdown",
      "source": "# Интервалы возрастания (убывания) функции версия 2\nПо идее, при прохождении экстремума, знак производной должен меняться. Но выше видно, что водряд идут два интервала убывания.\nЯ предполагаю, что это связано некорретной работой с числами с плавающей точкой в методе *evalf()*\n\nПоэтому предлагаю еще один вариант определения интервалов убывания и возрастания",
      "metadata": {}
    },
    {
      "cell_type": "code",
      "source": "def user_is_increasing(function, point_1, point_2):\n    if function.evalf(subs={x: point_2}) > function.evalf(subs={x: point_1}):\n        return True\n    else:\n        return False\n    \n    \ndef intervals_v2(function, points):\n    values = ('возрастает', 'убывает')\n    if user_is_increasing(function, points[1], points[0]):\n        print(f'*  Функция возрастает на интервале: \\nот {points[1]} до {points[0]}')\n        characteristic = 0\n    else:\n        print(f'*  Функция убывает на интервале: \\nот {points[1]} до {points[0]}')\n        characteristic = 1\n    for i in range(2, len(points)):\n        if characteristic == 1:\n            print(f'*  Функция возрастает на интервале: \\nот {points[i-1]} до {points[i]}')\n            characteristic = 0\n        else:\n            print(f'*  Функция убывает на интервале: \\nот {points[i-1]} до {points[i]}')\n            characteristic = 1\n\n\nintervals_v2(y, extremums)",
      "metadata": {
        "trusted": true
      },
      "execution_count": 95,
      "outputs": [
        {
          "name": "stdout",
          "text": "*  Функция убывает на интервале: \nот 3*pi/4 до -pi/4\n*  Функция возрастает на интервале: \nот 3*pi/4 до -2*atan(-3/2 + sqrt(6)*sqrt(5 - sqrt(17))/2 + sqrt(17)/2)\n*  Функция убывает на интервале: \nот -2*atan(-3/2 + sqrt(6)*sqrt(5 - sqrt(17))/2 + sqrt(17)/2) до 2*atan(3/2 + sqrt(17)/2 + sqrt(6)*sqrt(sqrt(17) + 5)/2)\n*  Функция возрастает на интервале: \nот 2*atan(3/2 + sqrt(17)/2 + sqrt(6)*sqrt(sqrt(17) + 5)/2) до 2*atan(-sqrt(17)/2 + sqrt(6)*sqrt(5 - sqrt(17))/2 + 3/2)\n*  Функция убывает на интервале: \nот 2*atan(-sqrt(17)/2 + sqrt(6)*sqrt(5 - sqrt(17))/2 + 3/2) до 2*atan(-sqrt(6)*sqrt(sqrt(17) + 5)/2 + 3/2 + sqrt(17)/2)\n",
          "output_type": "stream"
        }
      ]
    },
    {
      "cell_type": "markdown",
      "source": "# График функции",
      "metadata": {}
    },
    {
      "cell_type": "code",
      "source": "p = plot(y, (x, extremums[0], extremums[0] + 2*pi))",
      "metadata": {
        "trusted": true
      },
      "execution_count": 96,
      "outputs": [
        {
          "output_type": "display_data",
          "data": {
            "text/plain": "<pyolite.display.Image at 0x7bf3568>",
            "image/png": "[encoded data removed]"
          },
          "metadata": {}
        }
      ]
    },
    {
      "cell_type": "markdown",
      "source": "# Вершина функции",
      "metadata": {}
    },
    {
      "cell_type": "code",
      "source": "def highiest_point(function, points):\n    function_values = []\n    for point in points:\n        function_values.append(function.evalf(subs={x:point}))\n    values_dict = dict(zip(function_values, points))\n    result = (values_dict.get(max(values_dict.keys())), max(values_dict.keys()))\n    print(f'Вершина функции имеет координаты: \\nx = {result[0]} \\nу = {result[1]}')\n    \n\nhighiest_point(y, extremums)                           ",
      "metadata": {
        "trusted": true
      },
      "execution_count": 97,
      "outputs": [
        {
          "name": "stdout",
          "text": "Вершина функции имеет координаты: \nx = 2*atan(-sqrt(17)/2 + sqrt(6)*sqrt(5 - sqrt(17))/2 + 3/2) \nу = 0.404106232073136\n",
          "output_type": "stream"
        }
      ]
    },
    {
      "cell_type": "markdown",
      "source": "# Промежутки f(x)>0 и f(x)<0",
      "metadata": {}
    },
    {
      "cell_type": "code",
      "source": "print('Функция положительна на промежутках:')\nsolve_univariate_inequality(y >= 0, x)",
      "metadata": {
        "trusted": true
      },
      "execution_count": 102,
      "outputs": [
        {
          "name": "stdout",
          "text": "Функция положительна на промежутках:\n",
          "output_type": "stream"
        },
        {
          "execution_count": 102,
          "output_type": "execute_result",
          "data": {
            "text/plain": "Eq(x, 7*pi/4) | ((0 <= x) & (x <= pi))",
            "text/latex": "$\\displaystyle \\left(0 \\leq x \\wedge x \\leq \\pi\\right) \\vee x = \\frac{7 \\pi}{4}$"
          },
          "metadata": {}
        }
      ]
    },
    {
      "cell_type": "code",
      "source": "print('Функция отрицательна на промежутках:')\nsolve_univariate_inequality(y <= 0, x)",
      "metadata": {
        "trusted": true
      },
      "execution_count": 103,
      "outputs": [
        {
          "name": "stdout",
          "text": "Функция отрицательна на промежутках:\n",
          "output_type": "stream"
        },
        {
          "execution_count": 103,
          "output_type": "execute_result",
          "data": {
            "text/plain": "Eq(x, 0) | Eq(x, 3*pi/4) | ((pi <= x) & (x < 2*pi))",
            "text/latex": "$\\displaystyle \\left(\\pi \\leq x \\wedge x < 2 \\pi\\right) \\vee x = 0 \\vee x = \\frac{3 \\pi}{4}$"
          },
          "metadata": {}
        }
      ]
    },
    {
      "cell_type": "code",
      "source": "",
      "metadata": {},
      "execution_count": null,
      "outputs": []
    }
  ]
}